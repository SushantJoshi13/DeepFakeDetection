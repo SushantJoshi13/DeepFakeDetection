{
 "cells": [
  {
   "cell_type": "code",
   "execution_count": 1,
   "metadata": {},
   "outputs": [],
   "source": [
    "import os\n",
    "import numpy as np\n",
    "import pandas as pd\n",
    "import tensorflow as tf\n",
    "import cv2\n",
    "from tensorflow.keras.preprocessing.image import ImageDataGenerator, load_img, img_to_array\n",
    "from tensorflow.keras.preprocessing.image import load_img, img_to_array\n",
    "from tensorflow.keras.applications import ResNet50\n",
    "from tensorflow.keras.models import Sequential, Model\n",
    "from tensorflow.keras.layers import GlobalAveragePooling2D, Dense, Dropout, Flatten\n",
    "from tensorflow.keras.callbacks import EarlyStopping, ModelCheckpoint, ReduceLROnPlateau\n",
    "from sklearn.utils.class_weight import compute_class_weight\n",
    "from tensorflow.keras.metrics import Precision, Recall"
   ]
  },
  {
   "cell_type": "code",
   "execution_count": 2,
   "metadata": {},
   "outputs": [],
   "source": [
    "# Function to load and preprocess image using Keras\n",
    "def load_and_preprocess_image(image_path, target_size):\n",
    "    img = load_img(image_path, target_size=target_size)\n",
    "    img_array = img_to_array(img)\n",
    "    img_array = tf.keras.applications.resnet50.preprocess_input(img_array)\n",
    "    return img_array\n",
    "\n",
    "# Function to extract image paths from a folder\n",
    "def extract_image_paths(root_folder, folder):\n",
    "    image_paths = []\n",
    "    for subdir, _, files in os.walk(os.path.join(root_folder, folder)):\n",
    "        for file in files:\n",
    "            if file.lower().endswith('.jpg'):\n",
    "                image_path = os.path.join(subdir, file)\n",
    "                image_paths.append(image_path)\n",
    "    return image_paths\n",
    "\n",
    "# Replace these paths with your actual dataset folder and subfolders\n",
    "root_folder_path = \"Reduced_Dataset\"\n",
    "real_folder = \"Real\"\n",
    "fake_folder = \"Fake\""
   ]
  },
  {
   "cell_type": "code",
   "execution_count": 3,
   "metadata": {},
   "outputs": [],
   "source": [
    "# Extract image paths for real and fake images\n",
    "real_image_paths = extract_image_paths(root_folder_path, real_folder)\n",
    "fake_image_paths = extract_image_paths(root_folder_path, fake_folder)"
   ]
  },
  {
   "cell_type": "code",
   "execution_count": 4,
   "metadata": {},
   "outputs": [],
   "source": [
    "# Create labels (0 for real, 1 for fake)\n",
    "real_labels = np.full(len(real_image_paths), \"Real\")\n",
    "fake_labels = np.full(len(fake_image_paths), \"Fake\")"
   ]
  },
  {
   "cell_type": "code",
   "execution_count": 5,
   "metadata": {},
   "outputs": [
    {
     "name": "stdout",
     "output_type": "stream",
     "text": [
      "                                              Image_Path Nature\n",
      "21384  Reduced_Dataset\\Fake\\01_11__meeting_serious__F...   Fake\n",
      "21385  Reduced_Dataset\\Fake\\01_26__outside_talking_pa...   Fake\n",
      "21386  Reduced_Dataset\\Real\\14__walk_down_hall_angry....   Real\n",
      "21387  Reduced_Dataset\\Real\\03__hugging_happy.mp4\\fra...   Real\n",
      "21388  Reduced_Dataset\\Fake\\03_09__outside_talking_st...   Fake\n"
     ]
    }
   ],
   "source": [
    "# Combine real and fake data\n",
    "X = np.concatenate([real_image_paths, fake_image_paths], axis=0)\n",
    "y = np.concatenate([real_labels, fake_labels], axis=0)\n",
    "df = pd.DataFrame({'Image_Path': X, 'Nature': y})\n",
    "df = df.sample(frac=1, random_state=42).reset_index(drop=True)\n",
    "print(df.tail())"
   ]
  },
  {
   "cell_type": "code",
   "execution_count": 6,
   "metadata": {},
   "outputs": [
    {
     "name": "stdout",
     "output_type": "stream",
     "text": [
      "Found 17112 validated image filenames belonging to 2 classes.\n",
      "Found 4277 validated image filenames belonging to 2 classes.\n"
     ]
    }
   ],
   "source": [
    "target_size = (224, 224)\n",
    "\n",
    "# Create an ImageDataGenerator for real and fake images\n",
    "train_datagen = ImageDataGenerator(\n",
    "    rescale=1./255,\n",
    "    rotation_range=20,\n",
    "    width_shift_range=0.2,\n",
    "    height_shift_range=0.2,\n",
    "    shear_range=0.2,\n",
    "    zoom_range=0.2,\n",
    "    horizontal_flip=True,\n",
    "    fill_mode='nearest',\n",
    "    validation_split=0.2)\n",
    "\n",
    "# Create a flow_from_dataframe generator for training\n",
    "train_generator = train_datagen.flow_from_dataframe(\n",
    "    df,\n",
    "    x_col='Image_Path',\n",
    "    y_col='Nature',\n",
    "    target_size=target_size,\n",
    "    batch_size=8,\n",
    "    class_mode='binary',\n",
    "    subset='training'\n",
    ")\n",
    "\n",
    "# Create a flow_from_dataframe generator for validation\n",
    "validation_generator = train_datagen.flow_from_dataframe(\n",
    "    df,\n",
    "    x_col='Image_Path',\n",
    "    y_col='Nature',\n",
    "    target_size=target_size,\n",
    "    batch_size=8,\n",
    "    class_mode='binary',\n",
    "    subset='validation'\n",
    ")\n",
    "\n"
   ]
  },
  {
   "cell_type": "markdown",
   "metadata": {},
   "source": [
    "CheckPoint added"
   ]
  },
  {
   "cell_type": "code",
   "execution_count": 7,
   "metadata": {},
   "outputs": [
    {
     "name": "stdout",
     "output_type": "stream",
     "text": [
      "Default GPU Device: /device:GPU:0\n",
      "[PhysicalDevice(name='/physical_device:GPU:0', device_type='GPU')]\n",
      "Model: \"sequential\"\n",
      "_________________________________________________________________\n",
      " Layer (type)                Output Shape              Param #   \n",
      "=================================================================\n",
      " resnet50 (Functional)       (None, 7, 7, 2048)        23587712  \n",
      "                                                                 \n",
      " global_average_pooling2d (G  (None, 2048)             0         \n",
      " lobalAveragePooling2D)                                          \n",
      "                                                                 \n",
      " flatten (Flatten)           (None, 2048)              0         \n",
      "                                                                 \n",
      " dense (Dense)               (None, 512)               1049088   \n",
      "                                                                 \n",
      " dropout (Dropout)           (None, 512)               0         \n",
      "                                                                 \n",
      " dense_1 (Dense)             (None, 1)                 513       \n",
      "                                                                 \n",
      "=================================================================\n",
      "Total params: 24,637,313\n",
      "Trainable params: 24,584,193\n",
      "Non-trainable params: 53,120\n",
      "_________________________________________________________________\n"
     ]
    }
   ],
   "source": [
    "# # Check if GPU is available\n",
    "if tf.test.gpu_device_name():\n",
    "    print('Default GPU Device: {}'.format(tf.test.gpu_device_name()))\n",
    "else:\n",
    "    print(\"Please install GPU version of TensorFlow\")\n",
    "\n",
    "print(tf.config.list_physical_devices('GPU'))\n",
    "\n",
    "    \n",
    "# Hyperparameters\n",
    "patience = 4  # Stop training if accuracy doesn't improve\n",
    "min_delta = 0.001  # Minimum tolerable difference in accuracy\n",
    "filepath = \"best_model_{epoch:02d}-{val_accuracy:.4f}.h5\"\n",
    "\n",
    "# Calculate class weights\n",
    "class_weights = compute_class_weight(class_weight='balanced', classes=np.unique(train_generator.classes),y=train_generator.classes)\n",
    "\n",
    "# Convert class weights to dictionary format\n",
    "class_weights_dict = {i: class_weights[i] for i in range(len(class_weights))}\n",
    "\n",
    "# Build and compile the ResNet model\n",
    "with tf.device('/GPU:0'):  # Ensure model is built on GPU\n",
    "    resnet_model = ResNet50(weights='imagenet', include_top=False, input_shape=(224, 224, 3))\n",
    "    resnet_model.trainable = True\n",
    "\n",
    "    model = Sequential([\n",
    "        resnet_model,\n",
    "        GlobalAveragePooling2D(),\n",
    "        Flatten(),\n",
    "        Dense(512, activation='relu'),  # Adding a dense layer\n",
    "        Dropout(0.5),  # Adding dropout for regularization\n",
    "        Dense(1, activation='sigmoid')\n",
    "    ])\n",
    "    model.summary()\n"
   ]
  },
  {
   "cell_type": "code",
   "execution_count": 8,
   "metadata": {},
   "outputs": [
    {
     "name": "stdout",
     "output_type": "stream",
     "text": [
      "                 Layer Name  Layer Trainable\n",
      "0                  resnet50             True\n",
      "1  global_average_pooling2d             True\n",
      "2                   flatten             True\n",
      "3                     dense             True\n",
      "4                   dropout             True\n",
      "5                   dense_1             True\n"
     ]
    }
   ],
   "source": [
    "layers = [(layer.name, layer.trainable) for layer in model.layers]\n",
    "df = pd.DataFrame(layers, columns=['Layer Name', 'Layer Trainable'])\n",
    "pd.set_option('display.max_rows', None)\n",
    "print(df)"
   ]
  },
  {
   "cell_type": "code",
   "execution_count": 9,
   "metadata": {},
   "outputs": [],
   "source": [
    "model.compile(optimizer='adam', loss='binary_crossentropy', metrics=['accuracy', Precision(), Recall()])"
   ]
  },
  {
   "cell_type": "code",
   "execution_count": 10,
   "metadata": {},
   "outputs": [
    {
     "name": "stdout",
     "output_type": "stream",
     "text": [
      "Epoch 1/50\n",
      "2139/2139 [==============================] - ETA: 0s - loss: 0.6102 - accuracy: 0.6972 - precision: 0.7054 - recall: 0.6613\n",
      "Epoch 1: val_accuracy improved from -inf to 0.53846, saving model to best_model_01-0.5385.h5\n",
      "2139/2139 [==============================] - 694s 312ms/step - loss: 0.6102 - accuracy: 0.6972 - precision: 0.7054 - recall: 0.6613 - val_loss: 1.2138 - val_accuracy: 0.5385 - val_precision: 0.9126 - val_recall: 0.0786 - lr: 0.0010\n",
      "Epoch 2/50\n",
      "2139/2139 [==============================] - ETA: 0s - loss: 0.4387 - accuracy: 0.8052 - precision: 0.8130 - recall: 0.7850\n",
      "Epoch 2: val_accuracy improved from 0.53846 to 0.77017, saving model to best_model_02-0.7702.h5\n",
      "2139/2139 [==============================] - 592s 277ms/step - loss: 0.4387 - accuracy: 0.8052 - precision: 0.8130 - recall: 0.7850 - val_loss: 0.4886 - val_accuracy: 0.7702 - val_precision: 0.7113 - val_recall: 0.9045 - lr: 0.0010\n",
      "Epoch 3/50\n",
      "2139/2139 [==============================] - ETA: 0s - loss: 0.3758 - accuracy: 0.8412 - precision: 0.8426 - recall: 0.8333\n",
      "Epoch 3: val_accuracy did not improve from 0.77017\n",
      "2139/2139 [==============================] - 568s 265ms/step - loss: 0.3758 - accuracy: 0.8412 - precision: 0.8426 - recall: 0.8333 - val_loss: 0.8773 - val_accuracy: 0.5817 - val_precision: 0.9693 - val_recall: 0.1633 - lr: 0.0010\n",
      "Epoch 4/50\n",
      "2139/2139 [==============================] - ETA: 0s - loss: 0.3222 - accuracy: 0.8689 - precision: 0.8677 - recall: 0.8658\n",
      "Epoch 4: val_accuracy improved from 0.77017 to 0.88380, saving model to best_model_04-0.8838.h5\n",
      "2139/2139 [==============================] - 568s 265ms/step - loss: 0.3222 - accuracy: 0.8689 - precision: 0.8677 - recall: 0.8658 - val_loss: 0.3032 - val_accuracy: 0.8838 - val_precision: 0.9473 - val_recall: 0.8113 - lr: 0.0010\n",
      "Epoch 5/50\n",
      "2139/2139 [==============================] - ETA: 0s - loss: 0.2830 - accuracy: 0.8875 - precision: 0.8873 - recall: 0.8838\n",
      "Epoch 5: val_accuracy did not improve from 0.88380\n",
      "2139/2139 [==============================] - 568s 265ms/step - loss: 0.2830 - accuracy: 0.8875 - precision: 0.8873 - recall: 0.8838 - val_loss: 0.3840 - val_accuracy: 0.8333 - val_precision: 0.8816 - val_recall: 0.7675 - lr: 0.0010\n",
      "Epoch 6/50\n",
      "2139/2139 [==============================] - ETA: 0s - loss: 0.2535 - accuracy: 0.8986 - precision: 0.9031 - recall: 0.8895\n",
      "Epoch 6: val_accuracy did not improve from 0.88380\n",
      "2139/2139 [==============================] - 567s 265ms/step - loss: 0.2535 - accuracy: 0.8986 - precision: 0.9031 - recall: 0.8895 - val_loss: 1.1961 - val_accuracy: 0.5782 - val_precision: 0.5421 - val_recall: 0.9732 - lr: 0.0010\n",
      "Epoch 7/50\n",
      "2139/2139 [==============================] - ETA: 0s - loss: 0.2330 - accuracy: 0.9087 - precision: 0.9131 - recall: 0.9003\n",
      "Epoch 7: val_accuracy did not improve from 0.88380\n",
      "2139/2139 [==============================] - 567s 265ms/step - loss: 0.2330 - accuracy: 0.9087 - precision: 0.9131 - recall: 0.9003 - val_loss: 1.4299 - val_accuracy: 0.5001 - val_precision: 0.4985 - val_recall: 0.9986 - lr: 0.0010\n",
      "Epoch 8/50\n",
      "2139/2139 [==============================] - ETA: 0s - loss: 0.2139 - accuracy: 0.9152 - precision: 0.9170 - recall: 0.9102\n",
      "Epoch 8: val_accuracy did not improve from 0.88380\n",
      "2139/2139 [==============================] - 591s 276ms/step - loss: 0.2139 - accuracy: 0.9152 - precision: 0.9170 - recall: 0.9102 - val_loss: 0.7601 - val_accuracy: 0.5700 - val_precision: 0.5761 - val_recall: 0.5092 - lr: 0.0010\n"
     ]
    }
   ],
   "source": [
    "# callbacks\n",
    "early_stopping = EarlyStopping(monitor='val_accuracy', patience=patience, min_delta=min_delta, restore_best_weights=True)\n",
    "model_checkpoint = ModelCheckpoint(filepath=filepath, monitor='val_accuracy', save_best_only=True, verbose=1)\n",
    "reduce_lr = ReduceLROnPlateau(monitor='val_loss', factor=0.2, patience=2, min_lr=0.001, verbose=1)\n",
    "\n",
    "HistoryModel = None\n",
    "\n",
    "# Train the model\n",
    "with tf.device('/GPU:0'):  # Ensure training is done on GPU\n",
    "    history = model.fit(\n",
    "        train_generator,\n",
    "        epochs=50,  # Increase the number of epochs\n",
    "        validation_data=validation_generator,\n",
    "        callbacks=[early_stopping, model_checkpoint, reduce_lr],\n",
    "        class_weight=class_weights_dict,\n",
    "        verbose=1\n",
    "    )\n",
    "    HistoryModel = history\n",
    "\n",
    "model.save('trained_resnet_model_real_fake_Optimized.h5')"
   ]
  },
  {
   "cell_type": "code",
   "execution_count": 11,
   "metadata": {},
   "outputs": [
    {
     "data": {
      "image/png": "[encoded data removed]",
      "text/plain": [
       "<Figure size 640x480 with 1 Axes>"
      ]
     },
     "metadata": {},
     "output_type": "display_data"
    }
   ],
   "source": [
    "import keras\n",
    "from matplotlib import pyplot as plt\n",
    "\n",
    "plt.plot(history.history['accuracy'])\n",
    "plt.plot(history.history['val_accuracy'])\n",
    "plt.title('model accuracy')\n",
    "plt.ylabel('accuracy')\n",
    "plt.xlabel('epoch')\n",
    "plt.legend(['train', 'val'], loc='upper left')\n",
    "plt.show()"
   ]
  },
  {
   "cell_type": "code",
   "execution_count": 12,
   "metadata": {},
   "outputs": [
    {
     "data": {
      "image/png": "[encoded data removed]",
      "text/plain": [
       "<Figure size 640x480 with 1 Axes>"
      ]
     },
     "metadata": {},
     "output_type": "display_data"
    }
   ],
   "source": [
    "plt.plot(history.history['loss'])\n",
    "plt.plot(history.history['val_loss'])\n",
    "plt.title('model loss')\n",
    "plt.ylabel('loss')\n",
    "plt.xlabel('epoch')\n",
    "plt.legend(['train', 'val'], loc='upper left')\n",
    "plt.show()"
   ]
  },
  {
   "cell_type": "code",
   "execution_count": 2,
   "metadata": {},
   "outputs": [
    {
     "name": "stdout",
     "output_type": "stream",
     "text": [
      "Found 140409 images belonging to 2 classes.\n",
      " 2612/17552 [===>..........................] - ETA: 2:25:58 - loss: 0.3034 - accuracy: 0.9229 - precision: 0.8975 - recall: 0.9739"
     ]
    }
   ],
   "source": [
    "import tensorflow as tf\n",
    "from tensorflow.keras.preprocessing.image import ImageDataGenerator\n",
    "from tensorflow.keras.models import load_model\n",
    "# Define paths to your data\n",
    "test_data_dir = \"Testing\"  # Replace with your testing data path\n",
    "# Define image dimensions (assuming you used these during training)\n",
    "img_height, img_width = 224, 224\n",
    "# Load your trained ResNet50 model\n",
    "model = load_model(\"Best/best_model_21-0.9390.h5\")\n",
    "# Define data generators for testing\n",
    "test_datagen = ImageDataGenerator(rescale=1./255)  # Normalize pixel values\n",
    "test_generator = test_datagen.flow_from_directory(\n",
    "    test_data_dir,\n",
    "    target_size=(img_height, img_width),\n",
    "    batch_size=8,  # Adjust batch size as needed\n",
    "    class_mode='binary'  # Adjust class mode based on your task (e.g., 'binary' for 2 classes)\n",
    ")\n",
    "# Evaluate the model on the test data\n",
    "test_loss, test_acc = model.evaluate(test_generator)\n",
    "# Print the test accuracy\n",
    "print(f\"Test Accuracy: {test_acc:.4f}\")\n",
    "# Additional analysis (optional)\n",
    "# predictions = model.predict(test_generator)\n",
    "# Analyze predictions based on your specific task (e.g., confusion matrix, visualization)"
   ]
  },
  {
   "cell_type": "code",
   "execution_count": null,
   "metadata": {},
   "outputs": [],
   "source": [
    "from sklearn.metrics import confusion_matrix\n",
    "import numpy as np\n",
    "import matplotlib.pyplot as plt\n",
    "import seaborn as sns\n",
    "import joblib\n",
    "\n",
    "# Load your saved model\n",
    "loaded_model = joblib.load('best_model_21-0.9390.h5')\n",
    "\n",
    "# Assuming you have a test dataset and its corresponding actual labels\n",
    "test_data = ...  # Your test data\n",
    "actual_labels = ...  # Actual labels for the test data\n",
    "\n",
    "# Make predictions using the loaded model\n",
    "predicted_labels = loaded_model.predict(test_data)\n",
    "\n",
    "# Compute confusion matrix\n",
    "cm = confusion_matrix(actual_labels, predicted_labels)\n",
    "\n",
    "# Plot confusion matrix\n",
    "plt.figure(figsize=(8, 6))\n",
    "sns.heatmap(cm, annot=True, cmap='Blues', fmt='g', xticklabels=['Predicted 0', 'Predicted 1'], yticklabels=['Actual 0', 'Actual 1'])\n",
    "plt.xlabel('Predicted labels')\n",
    "plt.ylabel('True labels')\n",
    "plt.title('Confusion Matrix')\n",
    "plt.show()\n"
   ]
  }
 ],
 "metadata": {
  "kernelspec": {
   "display_name": "Python 3",
   "language": "python",
   "name": "python3"
  },
  "language_info": {
   "codemirror_mode": {
    "name": "ipython",
    "version": 3
   },
   "file_extension": ".py",
   "mimetype": "text/x-python",
   "name": "python",
   "nbconvert_exporter": "python",
   "pygments_lexer": "ipython3",
   "version": "3.9.18"
  }
 },
 "nbformat": 4,
 "nbformat_minor": 2
}
