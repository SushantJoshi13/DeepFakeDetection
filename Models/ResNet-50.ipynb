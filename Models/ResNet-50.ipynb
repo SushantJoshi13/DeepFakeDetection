{
 "cells": [
  {
   "cell_type": "code",
   "execution_count": null,
   "metadata": {},
   "outputs": [],
   "source": [
    "import os\n",
    "import numpy as np\n",
    "import pandas as pd\n",
    "import tensorflow as tf\n",
    "import cv2\n",
    "from tensorflow.keras.preprocessing.image import ImageDataGenerator, load_img, img_to_array\n",
    "from tensorflow.keras.preprocessing.image import load_img, img_to_array\n",
    "from tensorflow.keras.applications import ResNet50\n",
    "from tensorflow.keras.models import Sequential, Model\n",
    "from tensorflow.keras.layers import GlobalAveragePooling2D, Dense, Dropout, Flatten\n",
    "from tensorflow.keras.callbacks import EarlyStopping, ModelCheckpoint, ReduceLROnPlateau\n",
    "from sklearn.utils.class_weight import compute_class_weight\n",
    "from tensorflow.keras.metrics import Precision, Recall"
   ]
  },
  {
   "cell_type": "code",
   "execution_count": null,
   "metadata": {},
   "outputs": [],
   "source": [
    "# Function to load and preprocess image using Keras\n",
    "def load_and_preprocess_image(image_path, target_size):\n",
    "    img = load_img(image_path, target_size=target_size)\n",
    "    img_array = img_to_array(img)\n",
    "    img_array = tf.keras.applications.resnet50.preprocess_input(img_array)\n",
    "    return img_array\n",
    "\n",
    "# Function to extract image paths from a folder\n",
    "def extract_image_paths(root_folder, folder):\n",
    "    image_paths = []\n",
    "    for subdir, _, files in os.walk(os.path.join(root_folder, folder)):\n",
    "        for file in files:\n",
    "            if file.lower().endswith('.jpg'):\n",
    "                image_path = os.path.join(subdir, file)\n",
    "                image_paths.append(image_path)\n",
    "    return image_paths\n",
    "\n",
    "# Replace these paths with your actual dataset folder and subfolders\n",
    "root_folder_path = \"Reduced_Dataset\"\n",
    "real_folder = \"Real\"\n",
    "fake_folder = \"Fake\""
   ]
  },
  {
   "cell_type": "code",
   "execution_count": null,
   "metadata": {},
   "outputs": [],
   "source": [
    "# Extract image paths for real and fake images\n",
    "real_image_paths = extract_image_paths(root_folder_path, real_folder)\n",
    "fake_image_paths = extract_image_paths(root_folder_path, fake_folder)"
   ]
  },
  {
   "cell_type": "code",
   "execution_count": null,
   "metadata": {},
   "outputs": [],
   "source": [
    "# Create labels (0 for real, 1 for fake)\n",
    "real_labels = np.full(len(real_image_paths), \"Real\")\n",
    "fake_labels = np.full(len(fake_image_paths), \"Fake\")"
   ]
  },
  {
   "cell_type": "code",
   "execution_count": null,
   "metadata": {},
   "outputs": [],
   "source": [
    "# Combine real and fake data\n",
    "X = np.concatenate([real_image_paths, fake_image_paths], axis=0)\n",
    "y = np.concatenate([real_labels, fake_labels], axis=0)\n",
    "df = pd.DataFrame({'Image_Path': X, 'Nature': y})\n",
    "df = df.sample(frac=1, random_state=42).reset_index(drop=True)\n",
    "print(df.tail())"
   ]
  },
  {
   "cell_type": "code",
   "execution_count": null,
   "metadata": {},
   "outputs": [],
   "source": [
    "target_size = (224, 224)\n",
    "\n",
    "# Create an ImageDataGenerator for real and fake images\n",
    "train_datagen = ImageDataGenerator(\n",
    "    rescale=1./255,\n",
    "    rotation_range=20,\n",
    "    width_shift_range=0.2,\n",
    "    height_shift_range=0.2,\n",
    "    shear_range=0.2,\n",
    "    zoom_range=0.2,\n",
    "    horizontal_flip=True,\n",
    "    fill_mode='nearest',\n",
    "    validation_split=0.2)\n",
    "\n",
    "# Create a flow_from_dataframe generator for training\n",
    "train_generator = train_datagen.flow_from_dataframe(\n",
    "    df,\n",
    "    x_col='Image_Path',\n",
    "    y_col='Nature',\n",
    "    target_size=target_size,\n",
    "    batch_size=8,\n",
    "    class_mode='binary',\n",
    "    subset='training'\n",
    ")\n",
    "\n",
    "# Create a flow_from_dataframe generator for validation\n",
    "validation_generator = train_datagen.flow_from_dataframe(\n",
    "    df,\n",
    "    x_col='Image_Path',\n",
    "    y_col='Nature',\n",
    "    target_size=target_size,\n",
    "    batch_size=8,\n",
    "    class_mode='binary',\n",
    "    subset='validation'\n",
    ")\n",
    "\n"
   ]
  },
  {
   "cell_type": "markdown",
   "metadata": {},
   "source": [
    "CheckPoint added"
   ]
  },
  {
   "cell_type": "code",
   "execution_count": null,
   "metadata": {},
   "outputs": [],
   "source": [
    "# # Check if GPU is available\n",
    "if tf.test.gpu_device_name():\n",
    "    print('Default GPU Device: {}'.format(tf.test.gpu_device_name()))\n",
    "else:\n",
    "    print(\"Please install GPU version of TensorFlow\")\n",
    "\n",
    "print(tf.config.list_physical_devices('GPU'))\n",
    "\n",
    "# Hyperparameters\n",
    "patience = 4  # Stop training if accuracy doesn't improve\n",
    "min_delta = 0.001  # Minimum tolerable difference in accuracy\n",
    "filepath = \"best_model_{epoch:02d}-{val_accuracy:.4f}.h5\"\n",
    "\n",
    "# Calculate class weights\n",
    "class_weights = compute_class_weight(class_weight='balanced', classes=np.unique(train_generator.classes),y=train_generator.classes)\n",
    "\n",
    "# Convert class weights to dictionary format\n",
    "class_weights_dict = {i: class_weights[i] for i in range(len(class_weights))}\n",
    "\n",
    "# Build and compile the ResNet model\n",
    "with tf.device('/GPU:0'):  # Ensure model is built on GPU\n",
    "    resnet_model = ResNet50(weights='imagenet', include_top=False, input_shape=(224, 224, 3))\n",
    "    resnet_model.trainable = True\n",
    "\n",
    "    model = Sequential([\n",
    "        resnet_model,\n",
    "        GlobalAveragePooling2D(),\n",
    "        Flatten(),\n",
    "        Dense(512, activation='relu'),  # Adding a dense layer\n",
    "        Dropout(0.5),  # Adding dropout for regularization\n",
    "        Dense(1, activation='sigmoid')\n",
    "    ])\n",
    "    model.summary()\n"
   ]
  },
  {
   "cell_type": "code",
   "execution_count": null,
   "metadata": {},
   "outputs": [],
   "source": [
    "layers = [(layer.name, layer.trainable) for layer in model.layers]\n",
    "df = pd.DataFrame(layers, columns=['Layer Name', 'Layer Trainable'])\n",
    "pd.set_option('display.max_rows', None)\n",
    "print(df)"
   ]
  },
  {
   "cell_type": "code",
   "execution_count": null,
   "metadata": {},
   "outputs": [],
   "source": [
    "model.compile(optimizer='adam', loss='binary_crossentropy', metrics=['accuracy', Precision(), Recall()])"
   ]
  },
  {
   "cell_type": "code",
   "execution_count": null,
   "metadata": {},
   "outputs": [],
   "source": [
    "# callbacks\n",
    "early_stopping = EarlyStopping(monitor='val_accuracy', patience=patience, min_delta=min_delta, restore_best_weights=True)\n",
    "model_checkpoint = ModelCheckpoint(filepath=filepath, monitor='val_accuracy', save_best_only=True, verbose=1)\n",
    "reduce_lr = ReduceLROnPlateau(monitor='val_loss', factor=0.2, patience=2, min_lr=0.001, verbose=1)\n",
    "\n",
    "HistoryModel = None\n",
    "\n",
    "# Train the model\n",
    "with tf.device('/GPU:0'):  # Ensure training is done on GPU\n",
    "    history = model.fit(\n",
    "        train_generator,\n",
    "        epochs=50,  # Increase the number of epochs\n",
    "        validation_data=validation_generator,\n",
    "        callbacks=[early_stopping, model_checkpoint, reduce_lr],\n",
    "        class_weight=class_weights_dict,\n",
    "        verbose=1\n",
    "    )\n",
    "    HistoryModel = history\n",
    "\n",
    "model.save('trained_resnet_model_real_fake_Optimized.h5')"
   ]
  },
  {
   "cell_type": "code",
   "execution_count": null,
   "metadata": {},
   "outputs": [],
   "source": [
    "import keras\n",
    "from matplotlib import pyplot as plt\n",
    "\n",
    "plt.plot(history.history['accuracy'])\n",
    "plt.plot(history.history['val_accuracy'])\n",
    "plt.title('model accuracy')\n",
    "plt.ylabel('accuracy')\n",
    "plt.xlabel('epoch')\n",
    "plt.legend(['train', 'val'], loc='upper left')\n",
    "plt.show()"
   ]
  },
  {
   "cell_type": "code",
   "execution_count": null,
   "metadata": {},
   "outputs": [],
   "source": [
    "plt.plot(history.history['loss'])\n",
    "plt.plot(history.history['val_loss'])\n",
    "plt.title('model loss')\n",
    "plt.ylabel('loss')\n",
    "plt.xlabel('epoch')\n",
    "plt.legend(['train', 'val'], loc='upper left')\n",
    "plt.show()"
   ]
  },
  {
   "cell_type": "code",
   "execution_count": null,
   "metadata": {},
   "outputs": [],
   "source": [
    "import tensorflow as tf\n",
    "from tensorflow.keras.preprocessing.image import ImageDataGenerator\n",
    "from tensorflow.keras.models import load_model\n",
    "# Define paths to your data\n",
    "test_data_dir = \"Testing\" \n",
    "img_height, img_width = 224, 224\n",
    "\n",
    "# Loading your trained ResNet50 model\n",
    "model = load_model(\"Best/best_model_21-0.9390.h5\")\n",
    "\n",
    "# Define data generators for testing\n",
    "test_datagen = ImageDataGenerator(rescale=1./255)\n",
    "test_generator = test_datagen.flow_from_directory(\n",
    "    test_data_dir,\n",
    "    target_size=(img_height, img_width),\n",
    "    batch_size=8, \n",
    "    class_mode='binary'  \n",
    ")\n",
    "# Evaluate the model on the test data\n",
    "test_loss, test_acc = model.evaluate(test_generator)\n",
    "# Print the test accuracy\n",
    "print(f\"Test Accuracy: {test_acc:.4f}\")"
   ]
  }
 ],
 "metadata": {
  "kernelspec": {
   "display_name": "Python 3",
   "language": "python",
   "name": "python3"
  },
  "language_info": {
   "codemirror_mode": {
    "name": "ipython",
    "version": 3
   },
   "file_extension": ".py",
   "mimetype": "text/x-python",
   "name": "python",
   "nbconvert_exporter": "python",
   "pygments_lexer": "ipython3",
   "version": "3.9.18"
  }
 },
 "nbformat": 4,
 "nbformat_minor": 2
}
